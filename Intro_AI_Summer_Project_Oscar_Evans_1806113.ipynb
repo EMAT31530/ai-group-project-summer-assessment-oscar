{
 "cells": [
  {
   "cell_type": "code",
   "execution_count": 21,
   "metadata": {},
   "outputs": [],
   "source": [
    "import pandas as pd\n",
    "import pprint as pp"
   ]
  },
  {
   "cell_type": "code",
   "execution_count": 26,
   "metadata": {},
   "outputs": [
    {
     "ename": "TypeError",
     "evalue": "'generator' object is not subscriptable",
     "output_type": "error",
     "traceback": [
      "\u001b[1;31m---------------------------------------------------------------------------\u001b[0m",
      "\u001b[1;31mTypeError\u001b[0m                                 Traceback (most recent call last)",
      "\u001b[1;32m<ipython-input-26-8521de5b9a4a>\u001b[0m in \u001b[0;36m<module>\u001b[1;34m\u001b[0m\n\u001b[0;32m     12\u001b[0m \u001b[0mdatasetPath\u001b[0m \u001b[1;33m=\u001b[0m \u001b[0mPath\u001b[0m\u001b[1;33m(\u001b[0m\u001b[1;34m\"img_align_celeba\"\u001b[0m\u001b[1;33m)\u001b[0m\u001b[1;33m\u001b[0m\u001b[1;33m\u001b[0m\u001b[0m\n\u001b[0;32m     13\u001b[0m \u001b[0mimagePaths\u001b[0m \u001b[1;33m=\u001b[0m \u001b[0mdatasetPath\u001b[0m\u001b[1;33m.\u001b[0m\u001b[0mglob\u001b[0m\u001b[1;33m(\u001b[0m\u001b[1;34m\"*/*.jpg\"\u001b[0m\u001b[1;33m)\u001b[0m\u001b[1;33m\u001b[0m\u001b[1;33m\u001b[0m\u001b[0m\n\u001b[1;32m---> 14\u001b[1;33m \u001b[0mprint\u001b[0m\u001b[1;33m(\u001b[0m\u001b[0mimagePaths\u001b[0m\u001b[1;33m[\u001b[0m\u001b[1;36m0\u001b[0m\u001b[1;33m]\u001b[0m\u001b[1;33m)\u001b[0m\u001b[1;33m\u001b[0m\u001b[1;33m\u001b[0m\u001b[0m\n\u001b[0m\u001b[0;32m     15\u001b[0m \u001b[1;31m# read image and label information\u001b[0m\u001b[1;33m\u001b[0m\u001b[1;33m\u001b[0m\u001b[1;33m\u001b[0m\u001b[0m\n\u001b[0;32m     16\u001b[0m \u001b[0mimgs\u001b[0m \u001b[1;33m=\u001b[0m \u001b[1;33m[\u001b[0m\u001b[0mread_img\u001b[0m\u001b[1;33m(\u001b[0m\u001b[0mimagePath\u001b[0m\u001b[1;33m)\u001b[0m \u001b[1;32mfor\u001b[0m \u001b[0mimagePath\u001b[0m \u001b[1;32min\u001b[0m \u001b[0mimagePaths\u001b[0m\u001b[1;33m]\u001b[0m\u001b[1;33m\u001b[0m\u001b[1;33m\u001b[0m\u001b[0m\n",
      "\u001b[1;31mTypeError\u001b[0m: 'generator' object is not subscriptable"
     ]
    }
   ],
   "source": [
    "def read_img(imagePath):\n",
    "    # load the image and convert it to grayscale\n",
    "    gray = cv2.imread(str(imagePath), cv2.IMREAD_GRAYSCALE)\n",
    "    \n",
    "    # ROI, and resize it to a canonical size\n",
    "    imagePathStem = str(imagePath.stem)\n",
    "    k = int(imagePathStem[imagePathStem.rfind(\"_\") + 1:][:4]) - 1\n",
    "    \n",
    "    return gray, imagePath.parent.name\n",
    "\n",
    "\n",
    "# # grab in all the subdirs all the image paths associated with the faces\n",
    "# datasetPath = Path(\"img_align_celeba\")\n",
    "# imagePaths = datasetPath.glob(\"*/*.jpg\")\n",
    "# print(imagePaths)\n",
    "# # read image and label information\n",
    "# imgs = [read_img(imagePath) for imagePath in imagePaths]\n",
    "# print(imgs)\n",
    "# data = pd.DataFrame(imgs, columns =['images', 'target']).to_dict('list')\n",
    "# print(data)\n",
    "# # check if all images were found successfully (5 images were removed from the original set)\n",
    "# assert len(data['images']) == len(data['target']) == 445"
   ]
  },
  {
   "cell_type": "code",
   "execution_count": 11,
   "metadata": {},
   "outputs": [],
   "source": [
    "labels = pd.read_csv('list_attr_celeba.txt', sep='\\s+', header=1, index_col=0)"
   ]
  },
  {
   "cell_type": "code",
   "execution_count": 18,
   "metadata": {},
   "outputs": [
    {
     "name": "stdout",
     "output_type": "stream",
     "text": [
      "            5_o_Clock_Shadow  Arched_Eyebrows  Attractive  Bags_Under_Eyes  \\\n",
      "000001.jpg                -1                1           1               -1   \n",
      "000002.jpg                -1               -1          -1                1   \n",
      "000003.jpg                -1               -1          -1               -1   \n",
      "\n",
      "            Bald  Bangs  Big_Lips  Big_Nose  Black_Hair  Blond_Hair  ...  \\\n",
      "000001.jpg    -1     -1        -1        -1          -1          -1  ...   \n",
      "000002.jpg    -1     -1        -1         1          -1          -1  ...   \n",
      "000003.jpg    -1     -1         1        -1          -1          -1  ...   \n",
      "\n",
      "            Sideburns  Smiling  Straight_Hair  Wavy_Hair  Wearing_Earrings  \\\n",
      "000001.jpg         -1        1              1         -1                 1   \n",
      "000002.jpg         -1        1             -1         -1                -1   \n",
      "000003.jpg         -1       -1             -1          1                -1   \n",
      "\n",
      "            Wearing_Hat  Wearing_Lipstick  Wearing_Necklace  Wearing_Necktie  \\\n",
      "000001.jpg           -1                 1                -1               -1   \n",
      "000002.jpg           -1                -1                -1               -1   \n",
      "000003.jpg           -1                -1                -1               -1   \n",
      "\n",
      "            Young  \n",
      "000001.jpg      1  \n",
      "000002.jpg      1  \n",
      "000003.jpg      1  \n",
      "\n",
      "[3 rows x 40 columns]\n"
     ]
    }
   ],
   "source": [
    "pp.pprint(labels.head(n=3))"
   ]
  },
  {
   "cell_type": "code",
   "execution_count": null,
   "metadata": {},
   "outputs": [],
   "source": []
  },
  {
   "cell_type": "code",
   "execution_count": null,
   "metadata": {},
   "outputs": [],
   "source": []
  }
 ],
 "metadata": {
  "kernelspec": {
   "display_name": "Python 3",
   "language": "python",
   "name": "python3"
  },
  "language_info": {
   "codemirror_mode": {
    "name": "ipython",
    "version": 3
   },
   "file_extension": ".py",
   "mimetype": "text/x-python",
   "name": "python",
   "nbconvert_exporter": "python",
   "pygments_lexer": "ipython3",
   "version": "3.7.4"
  }
 },
 "nbformat": 4,
 "nbformat_minor": 2
}
